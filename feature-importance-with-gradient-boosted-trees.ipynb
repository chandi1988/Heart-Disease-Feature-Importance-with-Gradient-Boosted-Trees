{
 "cells": [
  {
   "cell_type": "markdown",
   "metadata": {
    "_uuid": "02702343701abcefca4cc377f9d918baab7798fe"
   },
   "source": [
    "## Context\n",
    "This database contains 76 attributes, but all published experiments refer to using a subset of 14 of them. In particular, the Cleveland database is the only one that has been used by ML researchers to this date. The \"goal\" field refers to the presence of heart disease in the patient. It is integer valued from 0 (no presence) to 4.\n",
    "\n",
    "## Content\n",
    "\n",
    "**Attribute Information: **\n",
    "- age = age in years\n",
    "- sex = (1 = male; 0 = female)\n",
    "- cp = chest pain type\n",
    "- trestbps = resting blood pressure (in mm Hg on admission to the hospital)\n",
    "- chol = serum cholestoral in mg/dl\n",
    "- fbs = (fasting blood sugar > 120 mg/dl) (1 = true; 0 = false)\n",
    "- restecg = resting electrocardiographic results\n",
    "- thalach = maximum heart rate achieved\n",
    "- exang = exercise induced angina (1 = yes; 0 = no)\n",
    "- oldpeak = ST depression induced by exercise relative to rest\n",
    "- slope = the slope of the peak exercise ST segment\n",
    "- ca = number of major vessels (0-3) colored by flourosopy\n",
    "- thal = 3 = normal; 6 = fixed defect; 7 = reversable defect\n",
    "- target = 1 or 0 (1 being heart disease, 0 being no heart disease\n",
    "\n",
    "## Get the Data\n"
   ]
  },
  {
   "cell_type": "code",
   "execution_count": 1,
   "metadata": {
    "_cell_guid": "b1076dfc-b9ad-4769-8c92-a6c4dae69d19",
    "_uuid": "8f2839f25d086af736a60e9eeb907d3b93b6e0e5"
   },
   "outputs": [
    {
     "name": "stdout",
     "output_type": "stream",
     "text": [
      "['heart.csv']\n"
     ]
    }
   ],
   "source": [
    "# This Python 3 environment comes with many helpful analytics libraries installed\n",
    "# It is defined by the kaggle/python docker image: https://github.com/kaggle/docker-python\n",
    "# For example, here's several helpful packages to load in \n",
    "\n",
    "import numpy as np # linear algebra\n",
    "import pandas as pd # data processing, CSV file I/O (e.g. pd.read_csv)\n",
    "\n",
    "# Input data files are available in the \"../input/\" directory.\n",
    "# For example, running this (by clicking run or pressing Shift+Enter) will list the files in the input directory\n",
    "\n",
    "import os\n",
    "print(os.listdir(\"../input\"))\n",
    "\n",
    "# Any results you write to the current directory are saved as output."
   ]
  },
  {
   "cell_type": "code",
   "execution_count": 2,
   "metadata": {
    "_cell_guid": "79c7e3d0-c299-4dcb-8224-4455121ee9b0",
    "_uuid": "d629ff2d2480ee46fbb7e2d37f6b5fab8052498a"
   },
   "outputs": [],
   "source": [
    "Data = pd.read_csv('../input/heart.csv')"
   ]
  },
  {
   "cell_type": "code",
   "execution_count": 3,
   "metadata": {
    "_uuid": "b3d94a2d60727e2395f75b84d8ea6beda63f4614"
   },
   "outputs": [],
   "source": [
    "!pip install -q tensorflow==2.0.0-alpha0\n",
    "import tensorflow as tf\n",
    "tf.random.set_seed(123)"
   ]
  },
  {
   "cell_type": "code",
   "execution_count": 4,
   "metadata": {
    "_uuid": "6e4ff1b803da4f33302efd782a63672030e4c7c5"
   },
   "outputs": [
    {
     "data": {
      "text/html": [
       "<div>\n",
       "<style scoped>\n",
       "    .dataframe tbody tr th:only-of-type {\n",
       "        vertical-align: middle;\n",
       "    }\n",
       "\n",
       "    .dataframe tbody tr th {\n",
       "        vertical-align: top;\n",
       "    }\n",
       "\n",
       "    .dataframe thead th {\n",
       "        text-align: right;\n",
       "    }\n",
       "</style>\n",
       "<table border=\"1\" class=\"dataframe\">\n",
       "  <thead>\n",
       "    <tr style=\"text-align: right;\">\n",
       "      <th></th>\n",
       "      <th>age</th>\n",
       "      <th>sex</th>\n",
       "      <th>cp</th>\n",
       "      <th>trestbps</th>\n",
       "      <th>chol</th>\n",
       "      <th>fbs</th>\n",
       "      <th>restecg</th>\n",
       "      <th>thalach</th>\n",
       "      <th>exang</th>\n",
       "      <th>oldpeak</th>\n",
       "      <th>slope</th>\n",
       "      <th>ca</th>\n",
       "      <th>thal</th>\n",
       "      <th>target</th>\n",
       "    </tr>\n",
       "  </thead>\n",
       "  <tbody>\n",
       "    <tr>\n",
       "      <th>0</th>\n",
       "      <td>63</td>\n",
       "      <td>1</td>\n",
       "      <td>3</td>\n",
       "      <td>145</td>\n",
       "      <td>233</td>\n",
       "      <td>1</td>\n",
       "      <td>0</td>\n",
       "      <td>150</td>\n",
       "      <td>0</td>\n",
       "      <td>2.3</td>\n",
       "      <td>0</td>\n",
       "      <td>0</td>\n",
       "      <td>1</td>\n",
       "      <td>1</td>\n",
       "    </tr>\n",
       "    <tr>\n",
       "      <th>1</th>\n",
       "      <td>37</td>\n",
       "      <td>1</td>\n",
       "      <td>2</td>\n",
       "      <td>130</td>\n",
       "      <td>250</td>\n",
       "      <td>0</td>\n",
       "      <td>1</td>\n",
       "      <td>187</td>\n",
       "      <td>0</td>\n",
       "      <td>3.5</td>\n",
       "      <td>0</td>\n",
       "      <td>0</td>\n",
       "      <td>2</td>\n",
       "      <td>1</td>\n",
       "    </tr>\n",
       "    <tr>\n",
       "      <th>2</th>\n",
       "      <td>41</td>\n",
       "      <td>0</td>\n",
       "      <td>1</td>\n",
       "      <td>130</td>\n",
       "      <td>204</td>\n",
       "      <td>0</td>\n",
       "      <td>0</td>\n",
       "      <td>172</td>\n",
       "      <td>0</td>\n",
       "      <td>1.4</td>\n",
       "      <td>2</td>\n",
       "      <td>0</td>\n",
       "      <td>2</td>\n",
       "      <td>1</td>\n",
       "    </tr>\n",
       "    <tr>\n",
       "      <th>3</th>\n",
       "      <td>56</td>\n",
       "      <td>1</td>\n",
       "      <td>1</td>\n",
       "      <td>120</td>\n",
       "      <td>236</td>\n",
       "      <td>0</td>\n",
       "      <td>1</td>\n",
       "      <td>178</td>\n",
       "      <td>0</td>\n",
       "      <td>0.8</td>\n",
       "      <td>2</td>\n",
       "      <td>0</td>\n",
       "      <td>2</td>\n",
       "      <td>1</td>\n",
       "    </tr>\n",
       "    <tr>\n",
       "      <th>4</th>\n",
       "      <td>57</td>\n",
       "      <td>0</td>\n",
       "      <td>0</td>\n",
       "      <td>120</td>\n",
       "      <td>354</td>\n",
       "      <td>0</td>\n",
       "      <td>1</td>\n",
       "      <td>163</td>\n",
       "      <td>1</td>\n",
       "      <td>0.6</td>\n",
       "      <td>2</td>\n",
       "      <td>0</td>\n",
       "      <td>2</td>\n",
       "      <td>1</td>\n",
       "    </tr>\n",
       "  </tbody>\n",
       "</table>\n",
       "</div>"
      ],
      "text/plain": [
       "   age  sex  cp  trestbps  chol   ...    oldpeak  slope  ca  thal  target\n",
       "0   63    1   3       145   233   ...        2.3      0   0     1       1\n",
       "1   37    1   2       130   250   ...        3.5      0   0     2       1\n",
       "2   41    0   1       130   204   ...        1.4      2   0     2       1\n",
       "3   56    1   1       120   236   ...        0.8      2   0     2       1\n",
       "4   57    0   0       120   354   ...        0.6      2   0     2       1\n",
       "\n",
       "[5 rows x 14 columns]"
      ]
     },
     "execution_count": 4,
     "metadata": {},
     "output_type": "execute_result"
    }
   ],
   "source": [
    "Data.head()"
   ]
  },
  {
   "cell_type": "markdown",
   "metadata": {
    "_uuid": "88106fd03a62435b5dc65501fe7579b88097b736"
   },
   "source": [
    "### Split up the data to training set and test set"
   ]
  },
  {
   "cell_type": "code",
   "execution_count": 5,
   "metadata": {
    "_uuid": "d3539bc72d8fa89d494cde602fcf626265777577"
   },
   "outputs": [],
   "source": [
    "from sklearn.model_selection import train_test_split\n",
    "train_set,test_set = train_test_split(Data,test_size=0.2, random_state=42)"
   ]
  },
  {
   "cell_type": "code",
   "execution_count": 6,
   "metadata": {
    "_uuid": "3a45b023d8160cf378de4754b8c9cf2038345437"
   },
   "outputs": [],
   "source": [
    "train_X = train_set.drop('target',axis=1)\n",
    "train_y = train_set['target']\n",
    "\n",
    "test_X = test_set.drop('target',axis=1)\n",
    "test_y = test_set['target']"
   ]
  },
  {
   "cell_type": "code",
   "execution_count": 7,
   "metadata": {
    "_uuid": "7e6987446fe66b82df814e02a2c6344bb92a9839"
   },
   "outputs": [
    {
     "data": {
      "image/png": "[encoded data removed]",
      "text/plain": [
       "<Figure size 1440x1080 with 16 Axes>"
      ]
     },
     "metadata": {},
     "output_type": "display_data"
    }
   ],
   "source": [
    "%matplotlib inline\n",
    "import matplotlib.pyplot as plt\n",
    "train_X.hist(bins=20, figsize=(20,15))\n",
    "plt.show()"
   ]
  },
  {
   "cell_type": "markdown",
   "metadata": {
    "_uuid": "a6fe06cd9a28f59e2b00c6d993520ec1d6de18a0"
   },
   "source": [
    "From the graph below we can see most of the people in this dataset have an age between 50 and 60"
   ]
  },
  {
   "cell_type": "code",
   "execution_count": 8,
   "metadata": {
    "_uuid": "66a63f7ad7bf992ad612ff76053bd19d2880b586"
   },
   "outputs": [
    {
     "data": {
      "image/png": "[encoded data removed]",
      "text/plain": [
       "<Figure size 432x288 with 1 Axes>"
      ]
     },
     "metadata": {},
     "output_type": "display_data"
    }
   ],
   "source": [
    "train_X.age.hist(bins=20);"
   ]
  },
  {
   "cell_type": "markdown",
   "metadata": {
    "_uuid": "b6fc0e8c01beb5cc149697546871449028f8eb4f"
   },
   "source": [
    "Most of the data is male"
   ]
  },
  {
   "cell_type": "code",
   "execution_count": 9,
   "metadata": {
    "_uuid": "9a49886221690f05008561478844b36b1bd10059"
   },
   "outputs": [
    {
     "data": {
      "image/png": "[encoded data removed]",
      "text/plain": [
       "<Figure size 432x288 with 1 Axes>"
      ]
     },
     "metadata": {},
     "output_type": "display_data"
    }
   ],
   "source": [
    "train_X.sex.value_counts().plot(kind='barh');"
   ]
  },
  {
   "cell_type": "markdown",
   "metadata": {
    "_uuid": "d4aed28f91b3106732bfdd035029fcd2c3cede1a"
   },
   "source": [
    "From the code below it seems that women are less susseptible to heart disease"
   ]
  },
  {
   "cell_type": "code",
   "execution_count": 10,
   "metadata": {
    "_uuid": "f3c5294bf3ee6c50f305b0dd9af2c2ce065da891"
   },
   "outputs": [
    {
     "data": {
      "image/png": "[encoded data removed]",
      "text/plain": [
       "<Figure size 432x288 with 1 Axes>"
      ]
     },
     "metadata": {},
     "output_type": "display_data"
    }
   ],
   "source": [
    "pd.concat([train_X, train_y], axis=1).groupby('sex').target.mean().plot(kind='barh').set_xlabel('% target');"
   ]
  },
  {
   "cell_type": "markdown",
   "metadata": {
    "_uuid": "35f55b929a8503766ec985173444614b96556ef2"
   },
   "source": [
    "## Prepare the Data\n",
    "\n",
    "- to deal with categorical data i will use one hot vector"
   ]
  },
  {
   "cell_type": "code",
   "execution_count": 11,
   "metadata": {
    "_uuid": "17d0ea4076973a34ec672d85729230597c1afef4"
   },
   "outputs": [],
   "source": [
    "fc = tf.feature_column\n",
    "CATEGORICAL_COLUMNS = ['sex', 'cp', 'fbs', 'restecg', 'exang', \n",
    "                       'slope', 'ca','thal']\n",
    "NUMERIC_COLUMNS = ['age', 'trestbps','chol','thalach','oldpeak']\n",
    "  \n",
    "def one_hot_cat_column(feature_name, vocab):\n",
    "  return tf.feature_column.indicator_column(\n",
    "      tf.feature_column.categorical_column_with_vocabulary_list(feature_name,\n",
    "                                                 vocab))\n",
    "feature_columns = []\n",
    "for feature_name in CATEGORICAL_COLUMNS:\n",
    "  # Need to one-hot encode categorical features.\n",
    "  vocabulary = train_X[feature_name].unique()\n",
    "  feature_columns.append(one_hot_cat_column(feature_name, vocabulary))\n",
    "  \n",
    "for feature_name in NUMERIC_COLUMNS:\n",
    "  feature_columns.append(tf.feature_column.numeric_column(feature_name,\n",
    "                                           dtype=tf.float32))"
   ]
  },
  {
   "cell_type": "code",
   "execution_count": 12,
   "metadata": {
    "_uuid": "d1192bc69d28a314e6eaef55e182be8170616ef1"
   },
   "outputs": [],
   "source": [
    "#tf.keras.layers.DenseFeatures(feature_columns)(example).numpy()"
   ]
  },
  {
   "cell_type": "code",
   "execution_count": 13,
   "metadata": {
    "_uuid": "184757b23e8f387f67f46d07c686e2f312df5456"
   },
   "outputs": [],
   "source": [
    "# Use entire batch since this is such a small dataset.\n",
    "NUM_EXAMPLES = len(train_y)\n",
    "\n",
    "def make_input_fn(X, y, n_epochs=None, shuffle=True):\n",
    "  def input_fn():\n",
    "    dataset = tf.data.Dataset.from_tensor_slices((dict(X), y))\n",
    "    if shuffle:\n",
    "      dataset = dataset.shuffle(NUM_EXAMPLES)\n",
    "    # For training, cycle thru dataset as many times as need (n_epochs=None).    \n",
    "    dataset = dataset.repeat(n_epochs)\n",
    "    # In memory training doesn't use batching.\n",
    "    dataset = dataset.batch(NUM_EXAMPLES)\n",
    "    return dataset\n",
    "  return input_fn\n",
    "\n",
    "# Training and evaluation input functions.\n",
    "train_input_fn = make_input_fn(train_X, train_y)\n",
    "eval_input_fn = make_input_fn(test_X, test_y, shuffle=False, n_epochs=1)"
   ]
  },
  {
   "cell_type": "markdown",
   "metadata": {
    "_uuid": "b4fc7dec47dd68cffaba3134431b7b9c0ad891ba"
   },
   "source": [
    "## Train the model\n",
    "1. using logistic regretion \n",
    "2. using Boosted Trees"
   ]
  },
  {
   "cell_type": "code",
   "execution_count": 14,
   "metadata": {
    "_uuid": "702c3cd176dfd926c9e267e69692bf71333daf71"
   },
   "outputs": [
    {
     "name": "stderr",
     "output_type": "stream",
     "text": [
      "WARNING: Logging before flag parsing goes to stderr.\n",
      "W0319 02:23:46.438974 139783169553792 estimator.py:1799] Using temporary folder as model directory: /tmp/tmpqg66z3dm\n",
      "W0319 02:23:46.464662 139783169553792 deprecation.py:323] From /opt/conda/lib/python3.6/site-packages/tensorflow/python/training/training_util.py:238: Variable.initialized_value (from tensorflow.python.ops.variables) is deprecated and will be removed in a future version.\n",
      "Instructions for updating:\n",
      "Use Variable.read_value. Variables in 2.X are initialized automatically both in eager and graph (inside tf.defun) contexts.\n",
      "W0319 02:23:46.564595 139783169553792 deprecation.py:323] From /opt/conda/lib/python3.6/site-packages/tensorflow/python/feature_column/feature_column_v2.py:2758: to_float (from tensorflow.python.ops.math_ops) is deprecated and will be removed in a future version.\n",
      "Instructions for updating:\n",
      "Use `tf.cast` instead.\n",
      "W0319 02:23:46.576449 139783169553792 deprecation.py:323] From /opt/conda/lib/python3.6/site-packages/tensorflow/python/feature_column/feature_column_v2.py:3774: to_int64 (from tensorflow.python.ops.math_ops) is deprecated and will be removed in a future version.\n",
      "Instructions for updating:\n",
      "Use `tf.cast` instead.\n",
      "W0319 02:23:46.591598 139783169553792 deprecation.py:323] From /opt/conda/lib/python3.6/site-packages/tensorflow/python/feature_column/feature_column_v2.py:4307: IndicatorColumn._variable_shape (from tensorflow.python.feature_column.feature_column_v2) is deprecated and will be removed in a future version.\n",
      "Instructions for updating:\n",
      "The old _FeatureColumn APIs are being deprecated. Please use the new FeatureColumn APIs instead.\n",
      "W0319 02:23:46.592296 139783169553792 deprecation.py:323] From /opt/conda/lib/python3.6/site-packages/tensorflow/python/feature_column/feature_column_v2.py:4362: VocabularyListCategoricalColumn._num_buckets (from tensorflow.python.feature_column.feature_column_v2) is deprecated and will be removed in a future version.\n",
      "Instructions for updating:\n",
      "The old _FeatureColumn APIs are being deprecated. Please use the new FeatureColumn APIs instead.\n",
      "W0319 02:23:47.406299 139783169553792 deprecation.py:506] From /opt/conda/lib/python3.6/site-packages/tensorflow/python/training/slot_creator.py:187: calling Zeros.__init__ (from tensorflow.python.ops.init_ops) with dtype is deprecated and will be removed in a future version.\n",
      "Instructions for updating:\n",
      "Call initializer instance with the dtype argument instead of passing it to the constructor\n",
      "W0319 02:23:51.444411 139783169553792 deprecation.py:323] From /opt/conda/lib/python3.6/site-packages/tensorflow/python/training/saver.py:1276: checkpoint_exists (from tensorflow.python.training.checkpoint_management) is deprecated and will be removed in a future version.\n",
      "Instructions for updating:\n",
      "Use standard file APIs to check for files with this prefix.\n"
     ]
    },
    {
     "name": "stdout",
     "output_type": "stream",
     "text": [
      "accuracy                  0.868852\n",
      "accuracy_baseline         0.524590\n",
      "auc                       0.920259\n",
      "auc_precision_recall      0.921154\n",
      "average_loss              0.521361\n",
      "label/mean                0.524590\n",
      "loss                      0.521361\n",
      "precision                 0.833333\n",
      "prediction/mean           0.595433\n",
      "recall                    0.937500\n",
      "global_step             100.000000\n",
      "dtype: float64\n"
     ]
    }
   ],
   "source": [
    "#Logistic\n",
    "linear_est = tf.estimator.LinearClassifier(feature_columns)\n",
    "\n",
    "# Train model.\n",
    "linear_est.train(train_input_fn, max_steps=100)\n",
    "\n",
    "# Evaluation.\n",
    "result = linear_est.evaluate(eval_input_fn)\n",
    "#clear_output()\n",
    "print(pd.Series(result))"
   ]
  },
  {
   "cell_type": "code",
   "execution_count": 15,
   "metadata": {
    "_uuid": "a65f4eb94ea392cc1ffa31ed27158d0856aa38ac",
    "scrolled": true
   },
   "outputs": [
    {
     "name": "stderr",
     "output_type": "stream",
     "text": [
      "W0319 02:23:52.562139 139783169553792 estimator.py:1799] Using temporary folder as model directory: /tmp/tmpyqhv72qe\n",
      "W0319 02:23:52.615570 139783169553792 deprecation.py:323] From /opt/conda/lib/python3.6/site-packages/tensorflow/python/feature_column/feature_column.py:2121: NumericColumn._transform_feature (from tensorflow.python.feature_column.feature_column_v2) is deprecated and will be removed in a future version.\n",
      "Instructions for updating:\n",
      "The old _FeatureColumn APIs are being deprecated. Please use the new FeatureColumn APIs instead.\n",
      "W0319 02:23:52.619587 139783169553792 deprecation.py:323] From /opt/conda/lib/python3.6/site-packages/tensorflow/python/feature_column/feature_column.py:2121: IndicatorColumn._transform_feature (from tensorflow.python.feature_column.feature_column_v2) is deprecated and will be removed in a future version.\n",
      "Instructions for updating:\n",
      "The old _FeatureColumn APIs are being deprecated. Please use the new FeatureColumn APIs instead.\n",
      "W0319 02:23:52.620301 139783169553792 deprecation.py:323] From /opt/conda/lib/python3.6/site-packages/tensorflow/python/feature_column/feature_column_v2.py:4336: VocabularyListCategoricalColumn._get_sparse_tensors (from tensorflow.python.feature_column.feature_column_v2) is deprecated and will be removed in a future version.\n",
      "Instructions for updating:\n",
      "The old _FeatureColumn APIs are being deprecated. Please use the new FeatureColumn APIs instead.\n",
      "W0319 02:23:52.620963 139783169553792 deprecation.py:323] From /opt/conda/lib/python3.6/site-packages/tensorflow/python/feature_column/feature_column.py:2121: VocabularyListCategoricalColumn._transform_feature (from tensorflow.python.feature_column.feature_column_v2) is deprecated and will be removed in a future version.\n",
      "Instructions for updating:\n",
      "The old _FeatureColumn APIs are being deprecated. Please use the new FeatureColumn APIs instead.\n",
      "W0319 02:23:52.781151 139783169553792 deprecation.py:323] From /opt/conda/lib/python3.6/site-packages/tensorflow_estimator/python/estimator/canned/boosted_trees.py:156: to_int32 (from tensorflow.python.ops.math_ops) is deprecated and will be removed in a future version.\n",
      "Instructions for updating:\n",
      "Use `tf.cast` instead.\n",
      "W0319 02:23:53.092041 139783169553792 meta_graph.py:447] Issue encountered when serializing resources.\n",
      "Type is unsupported, or the types of the items don't match field type in CollectionDef. Note this is a warning and probably safe to ignore.\n",
      "'_Resource' object has no attribute 'name'\n",
      "W0319 02:23:53.515287 139783169553792 meta_graph.py:447] Issue encountered when serializing resources.\n",
      "Type is unsupported, or the types of the items don't match field type in CollectionDef. Note this is a warning and probably safe to ignore.\n",
      "'_Resource' object has no attribute 'name'\n",
      "W0319 02:23:53.616974 139783169553792 meta_graph.py:447] Issue encountered when serializing resources.\n",
      "Type is unsupported, or the types of the items don't match field type in CollectionDef. Note this is a warning and probably safe to ignore.\n",
      "'_Resource' object has no attribute 'name'\n",
      "W0319 02:23:54.492107 139783169553792 meta_graph.py:447] Issue encountered when serializing resources.\n",
      "Type is unsupported, or the types of the items don't match field type in CollectionDef. Note this is a warning and probably safe to ignore.\n",
      "'_Resource' object has no attribute 'name'\n",
      "W0319 02:23:55.078567 139783169553792 deprecation.py:323] From /opt/conda/lib/python3.6/site-packages/tensorflow/python/ops/metrics_impl.py:2002: div (from tensorflow.python.ops.math_ops) is deprecated and will be removed in a future version.\n",
      "Instructions for updating:\n",
      "Deprecated in favor of operator or tf.math.divide.\n",
      "W0319 02:23:55.443747 139783169553792 metrics_impl.py:783] Trapezoidal rule is known to produce incorrect PR-AUCs; please switch to \"careful_interpolation\" instead.\n",
      "W0319 02:23:55.466614 139783169553792 metrics_impl.py:783] Trapezoidal rule is known to produce incorrect PR-AUCs; please switch to \"careful_interpolation\" instead.\n",
      "W0319 02:23:56.148524 139783169553792 meta_graph.py:447] Issue encountered when serializing resources.\n",
      "Type is unsupported, or the types of the items don't match field type in CollectionDef. Note this is a warning and probably safe to ignore.\n",
      "'_Resource' object has no attribute 'name'\n"
     ]
    },
    {
     "name": "stdout",
     "output_type": "stream",
     "text": [
      "accuracy                  0.852459\n",
      "accuracy_baseline         0.524590\n",
      "auc                       0.916487\n",
      "auc_precision_recall      0.929667\n",
      "average_loss              0.495074\n",
      "label/mean                0.524590\n",
      "loss                      0.495074\n",
      "precision                 0.896552\n",
      "prediction/mean           0.447184\n",
      "recall                    0.812500\n",
      "global_step             100.000000\n",
      "dtype: float64\n"
     ]
    }
   ],
   "source": [
    "# Boosted Trees \n",
    "n_batches = 1\n",
    "est = tf.estimator.BoostedTreesClassifier(feature_columns,\n",
    "                                          n_batches_per_layer=n_batches)\n",
    "\n",
    "# The model will stop training once the specified number of trees is built, not \n",
    "# based on the number of steps.\n",
    "est.train(train_input_fn, max_steps=100)\n",
    "\n",
    "# Eval.\n",
    "result = est.evaluate(eval_input_fn)\n",
    "print(pd.Series(result))"
   ]
  },
  {
   "cell_type": "markdown",
   "metadata": {
    "_uuid": "93dcb5f406d4c764c46c8528c31ca8f0161a3758"
   },
   "source": [
    "- the logistic model did better, so if you want the best predictions it might make more sense to use the logistic model. \n",
    "- for determing feature importance i will use the Boosted Trees model "
   ]
  },
  {
   "cell_type": "code",
   "execution_count": 16,
   "metadata": {
    "_uuid": "7dfc0d70b881575dfaefb3a3fd00d49c9209efe8"
   },
   "outputs": [
    {
     "data": {
      "image/png": "[encoded data removed]",
      "text/plain": [
       "<Figure size 432x288 with 1 Axes>"
      ]
     },
     "metadata": {},
     "output_type": "display_data"
    }
   ],
   "source": [
    "pred_dicts = list(linear_est.predict(eval_input_fn))\n",
    "probs = pd.Series([pred['probabilities'][1] for pred in pred_dicts])\n",
    "\n",
    "probs.plot(kind='hist', bins=20, title='predicted probabilities');"
   ]
  },
  {
   "cell_type": "code",
   "execution_count": 17,
   "metadata": {
    "_uuid": "a15c0d7257812c673d87ef21bdf20a6947745cae"
   },
   "outputs": [
    {
     "data": {
      "image/png": "[encoded data removed]",
      "text/plain": [
       "<Figure size 432x288 with 1 Axes>"
      ]
     },
     "metadata": {},
     "output_type": "display_data"
    }
   ],
   "source": [
    "from sklearn.metrics import roc_curve\n",
    "from matplotlib import pyplot as plt\n",
    "\n",
    "fpr, tpr, _ = roc_curve(test_y, probs)\n",
    "plt.plot(fpr, tpr)\n",
    "plt.title('ROC curve')\n",
    "plt.xlabel('false positive rate')\n",
    "plt.ylabel('true positive rate')\n",
    "plt.xlim(0,)\n",
    "plt.ylim(0,);"
   ]
  },
  {
   "cell_type": "markdown",
   "metadata": {
    "_uuid": "6028d4e26dbfc336777fce784a3e14b559a705ef"
   },
   "source": [
    "## Feature Importants\n",
    "- first will try and improve the Boosted Trees model"
   ]
  },
  {
   "cell_type": "code",
   "execution_count": 18,
   "metadata": {
    "_uuid": "8cfbb987b4a93f127eb7011224b17e7aa6c1b824",
    "scrolled": true
   },
   "outputs": [
    {
     "name": "stderr",
     "output_type": "stream",
     "text": [
      "W0319 02:23:57.533682 139783169553792 estimator.py:1799] Using temporary folder as model directory: /tmp/tmpb5ong71n\n",
      "W0319 02:23:58.219571 139783169553792 meta_graph.py:447] Issue encountered when serializing resources.\n",
      "Type is unsupported, or the types of the items don't match field type in CollectionDef. Note this is a warning and probably safe to ignore.\n",
      "'_Resource' object has no attribute 'name'\n",
      "W0319 02:23:58.658732 139783169553792 meta_graph.py:447] Issue encountered when serializing resources.\n",
      "Type is unsupported, or the types of the items don't match field type in CollectionDef. Note this is a warning and probably safe to ignore.\n",
      "'_Resource' object has no attribute 'name'\n",
      "W0319 02:23:58.772364 139783169553792 meta_graph.py:447] Issue encountered when serializing resources.\n",
      "Type is unsupported, or the types of the items don't match field type in CollectionDef. Note this is a warning and probably safe to ignore.\n",
      "'_Resource' object has no attribute 'name'\n",
      "W0319 02:23:59.748302 139783169553792 meta_graph.py:447] Issue encountered when serializing resources.\n",
      "Type is unsupported, or the types of the items don't match field type in CollectionDef. Note this is a warning and probably safe to ignore.\n",
      "'_Resource' object has no attribute 'name'\n",
      "W0319 02:24:00.621659 139783169553792 metrics_impl.py:783] Trapezoidal rule is known to produce incorrect PR-AUCs; please switch to \"careful_interpolation\" instead.\n",
      "W0319 02:24:00.644093 139783169553792 metrics_impl.py:783] Trapezoidal rule is known to produce incorrect PR-AUCs; please switch to \"careful_interpolation\" instead.\n",
      "W0319 02:24:01.425331 139783169553792 meta_graph.py:447] Issue encountered when serializing resources.\n",
      "Type is unsupported, or the types of the items don't match field type in CollectionDef. Note this is a warning and probably safe to ignore.\n",
      "'_Resource' object has no attribute 'name'\n"
     ]
    },
    {
     "data": {
      "text/html": [
       "<div>\n",
       "<style scoped>\n",
       "    .dataframe tbody tr th:only-of-type {\n",
       "        vertical-align: middle;\n",
       "    }\n",
       "\n",
       "    .dataframe tbody tr th {\n",
       "        vertical-align: top;\n",
       "    }\n",
       "\n",
       "    .dataframe thead th {\n",
       "        text-align: right;\n",
       "    }\n",
       "</style>\n",
       "<table border=\"1\" class=\"dataframe\">\n",
       "  <thead>\n",
       "    <tr style=\"text-align: right;\">\n",
       "      <th></th>\n",
       "      <th>0</th>\n",
       "    </tr>\n",
       "  </thead>\n",
       "  <tbody>\n",
       "    <tr>\n",
       "      <th>accuracy</th>\n",
       "      <td>0.836066</td>\n",
       "    </tr>\n",
       "    <tr>\n",
       "      <th>accuracy_baseline</th>\n",
       "      <td>0.524590</td>\n",
       "    </tr>\n",
       "    <tr>\n",
       "      <th>auc</th>\n",
       "      <td>0.915948</td>\n",
       "    </tr>\n",
       "    <tr>\n",
       "      <th>auc_precision_recall</th>\n",
       "      <td>0.916144</td>\n",
       "    </tr>\n",
       "    <tr>\n",
       "      <th>average_loss</th>\n",
       "      <td>0.383401</td>\n",
       "    </tr>\n",
       "    <tr>\n",
       "      <th>label/mean</th>\n",
       "      <td>0.524590</td>\n",
       "    </tr>\n",
       "    <tr>\n",
       "      <th>loss</th>\n",
       "      <td>0.383401</td>\n",
       "    </tr>\n",
       "    <tr>\n",
       "      <th>precision</th>\n",
       "      <td>0.866667</td>\n",
       "    </tr>\n",
       "    <tr>\n",
       "      <th>prediction/mean</th>\n",
       "      <td>0.451524</td>\n",
       "    </tr>\n",
       "    <tr>\n",
       "      <th>recall</th>\n",
       "      <td>0.812500</td>\n",
       "    </tr>\n",
       "    <tr>\n",
       "      <th>global_step</th>\n",
       "      <td>100.000000</td>\n",
       "    </tr>\n",
       "  </tbody>\n",
       "</table>\n",
       "</div>"
      ],
      "text/plain": [
       "                               0\n",
       "accuracy                0.836066\n",
       "accuracy_baseline       0.524590\n",
       "auc                     0.915948\n",
       "auc_precision_recall    0.916144\n",
       "average_loss            0.383401\n",
       "label/mean              0.524590\n",
       "loss                    0.383401\n",
       "precision               0.866667\n",
       "prediction/mean         0.451524\n",
       "recall                  0.812500\n",
       "global_step           100.000000"
      ]
     },
     "execution_count": 18,
     "metadata": {},
     "output_type": "execute_result"
    }
   ],
   "source": [
    "params = {\n",
    "  'n_trees': 500,\n",
    "  'max_depth': 1,\n",
    "  'n_batches_per_layer': 1,\n",
    "  # You must enable center_bias = True to get DFCs. This will force the model to \n",
    "  # make an initial prediction before using any features (e.g. use the mean of \n",
    "  # the training labels for regression or log odds for classification when\n",
    "  # using cross entropy loss).\n",
    "  'center_bias': True\n",
    "}\n",
    "\n",
    "est = tf.estimator.BoostedTreesClassifier(feature_columns, **params)\n",
    "# Train model.\n",
    "est.train(train_input_fn, max_steps=100)\n",
    "\n",
    "# Evaluation.\n",
    "results = est.evaluate(eval_input_fn)\n",
    "pd.Series(results).to_frame()"
   ]
  },
  {
   "cell_type": "markdown",
   "metadata": {
    "_uuid": "6933440077b1786137678c3c2e973b86b544fbd3"
   },
   "source": [
    "- got a bit better acc of .83 in this model and .82 in the old model (still not as good as the logitic model)"
   ]
  },
  {
   "cell_type": "code",
   "execution_count": 19,
   "metadata": {
    "_uuid": "d9cc24bab6d82fc3f48b49ce06247e7d157cb3d1"
   },
   "outputs": [],
   "source": [
    "import matplotlib.pyplot as plt\n",
    "import seaborn as sns\n",
    "sns_colors = sns.color_palette('colorblind')"
   ]
  },
  {
   "cell_type": "code",
   "execution_count": 20,
   "metadata": {
    "_uuid": "f1fb92d1aac1a7b00fb6e6a03620352528589714"
   },
   "outputs": [],
   "source": [
    "pred_dicts = list(est.experimental_predict_with_explanations(eval_input_fn))"
   ]
  },
  {
   "cell_type": "markdown",
   "metadata": {
    "_uuid": "8ffa1c4789d2b5d5f40b5a196f53fa5d909905bf"
   },
   "source": [
    "### Directional Feature Contributions (DFCs) \n",
    "- this is only to look at what factors effected a spesific person"
   ]
  },
  {
   "cell_type": "code",
   "execution_count": 21,
   "metadata": {
    "_uuid": "1278094094a79272db79d0f23f751a9d6d05eb7a"
   },
   "outputs": [
    {
     "data": {
      "text/html": [
       "<div>\n",
       "<style scoped>\n",
       "    .dataframe tbody tr th:only-of-type {\n",
       "        vertical-align: middle;\n",
       "    }\n",
       "\n",
       "    .dataframe tbody tr th {\n",
       "        vertical-align: top;\n",
       "    }\n",
       "\n",
       "    .dataframe thead th {\n",
       "        text-align: right;\n",
       "    }\n",
       "</style>\n",
       "<table border=\"1\" class=\"dataframe\">\n",
       "  <thead>\n",
       "    <tr style=\"text-align: right;\">\n",
       "      <th></th>\n",
       "      <th>count</th>\n",
       "      <th>mean</th>\n",
       "      <th>std</th>\n",
       "      <th>min</th>\n",
       "      <th>25%</th>\n",
       "      <th>50%</th>\n",
       "      <th>75%</th>\n",
       "      <th>max</th>\n",
       "    </tr>\n",
       "  </thead>\n",
       "  <tbody>\n",
       "    <tr>\n",
       "      <th>ca</th>\n",
       "      <td>61.0</td>\n",
       "      <td>-0.016597</td>\n",
       "      <td>0.148400</td>\n",
       "      <td>-0.218746</td>\n",
       "      <td>-0.156649</td>\n",
       "      <td>0.097588</td>\n",
       "      <td>0.135117</td>\n",
       "      <td>0.149686</td>\n",
       "    </tr>\n",
       "    <tr>\n",
       "      <th>cp</th>\n",
       "      <td>61.0</td>\n",
       "      <td>-0.013398</td>\n",
       "      <td>0.106410</td>\n",
       "      <td>-0.139328</td>\n",
       "      <td>-0.110956</td>\n",
       "      <td>-0.081154</td>\n",
       "      <td>0.102754</td>\n",
       "      <td>0.125030</td>\n",
       "    </tr>\n",
       "    <tr>\n",
       "      <th>thal</th>\n",
       "      <td>61.0</td>\n",
       "      <td>-0.023651</td>\n",
       "      <td>0.114397</td>\n",
       "      <td>-0.153270</td>\n",
       "      <td>-0.129363</td>\n",
       "      <td>-0.101927</td>\n",
       "      <td>0.096646</td>\n",
       "      <td>0.110708</td>\n",
       "    </tr>\n",
       "    <tr>\n",
       "      <th>exang</th>\n",
       "      <td>61.0</td>\n",
       "      <td>-0.005141</td>\n",
       "      <td>0.059898</td>\n",
       "      <td>-0.103447</td>\n",
       "      <td>-0.073878</td>\n",
       "      <td>0.031627</td>\n",
       "      <td>0.044064</td>\n",
       "      <td>0.049050</td>\n",
       "    </tr>\n",
       "    <tr>\n",
       "      <th>slope</th>\n",
       "      <td>61.0</td>\n",
       "      <td>-0.005713</td>\n",
       "      <td>0.054478</td>\n",
       "      <td>-0.078277</td>\n",
       "      <td>-0.052419</td>\n",
       "      <td>-0.023755</td>\n",
       "      <td>0.050739</td>\n",
       "      <td>0.077725</td>\n",
       "    </tr>\n",
       "    <tr>\n",
       "      <th>oldpeak</th>\n",
       "      <td>61.0</td>\n",
       "      <td>-0.021558</td>\n",
       "      <td>0.137624</td>\n",
       "      <td>-0.442309</td>\n",
       "      <td>0.018008</td>\n",
       "      <td>0.036949</td>\n",
       "      <td>0.059139</td>\n",
       "      <td>0.069835</td>\n",
       "    </tr>\n",
       "    <tr>\n",
       "      <th>sex</th>\n",
       "      <td>61.0</td>\n",
       "      <td>-0.011228</td>\n",
       "      <td>0.038339</td>\n",
       "      <td>-0.047861</td>\n",
       "      <td>-0.038112</td>\n",
       "      <td>-0.020002</td>\n",
       "      <td>-0.012022</td>\n",
       "      <td>0.093166</td>\n",
       "    </tr>\n",
       "    <tr>\n",
       "      <th>chol</th>\n",
       "      <td>61.0</td>\n",
       "      <td>-0.003017</td>\n",
       "      <td>0.022003</td>\n",
       "      <td>-0.035857</td>\n",
       "      <td>-0.021772</td>\n",
       "      <td>-0.009914</td>\n",
       "      <td>0.016121</td>\n",
       "      <td>0.033449</td>\n",
       "    </tr>\n",
       "    <tr>\n",
       "      <th>thalach</th>\n",
       "      <td>61.0</td>\n",
       "      <td>0.001993</td>\n",
       "      <td>0.036795</td>\n",
       "      <td>-0.070304</td>\n",
       "      <td>-0.010165</td>\n",
       "      <td>-0.005962</td>\n",
       "      <td>-0.003571</td>\n",
       "      <td>0.144711</td>\n",
       "    </tr>\n",
       "    <tr>\n",
       "      <th>age</th>\n",
       "      <td>61.0</td>\n",
       "      <td>0.000344</td>\n",
       "      <td>0.003804</td>\n",
       "      <td>-0.006496</td>\n",
       "      <td>-0.002475</td>\n",
       "      <td>0.001026</td>\n",
       "      <td>0.003517</td>\n",
       "      <td>0.006001</td>\n",
       "    </tr>\n",
       "    <tr>\n",
       "      <th>trestbps</th>\n",
       "      <td>61.0</td>\n",
       "      <td>-0.000095</td>\n",
       "      <td>0.011419</td>\n",
       "      <td>-0.039982</td>\n",
       "      <td>-0.002261</td>\n",
       "      <td>-0.001359</td>\n",
       "      <td>-0.000814</td>\n",
       "      <td>0.056703</td>\n",
       "    </tr>\n",
       "    <tr>\n",
       "      <th>fbs</th>\n",
       "      <td>61.0</td>\n",
       "      <td>0.000000</td>\n",
       "      <td>0.000000</td>\n",
       "      <td>0.000000</td>\n",
       "      <td>0.000000</td>\n",
       "      <td>0.000000</td>\n",
       "      <td>0.000000</td>\n",
       "      <td>0.000000</td>\n",
       "    </tr>\n",
       "    <tr>\n",
       "      <th>restecg</th>\n",
       "      <td>61.0</td>\n",
       "      <td>0.000000</td>\n",
       "      <td>0.000000</td>\n",
       "      <td>0.000000</td>\n",
       "      <td>0.000000</td>\n",
       "      <td>0.000000</td>\n",
       "      <td>0.000000</td>\n",
       "      <td>0.000000</td>\n",
       "    </tr>\n",
       "  </tbody>\n",
       "</table>\n",
       "</div>"
      ],
      "text/plain": [
       "          count      mean       std    ...          50%       75%       max\n",
       "ca         61.0 -0.016597  0.148400    ...     0.097588  0.135117  0.149686\n",
       "cp         61.0 -0.013398  0.106410    ...    -0.081154  0.102754  0.125030\n",
       "thal       61.0 -0.023651  0.114397    ...    -0.101927  0.096646  0.110708\n",
       "exang      61.0 -0.005141  0.059898    ...     0.031627  0.044064  0.049050\n",
       "slope      61.0 -0.005713  0.054478    ...    -0.023755  0.050739  0.077725\n",
       "oldpeak    61.0 -0.021558  0.137624    ...     0.036949  0.059139  0.069835\n",
       "sex        61.0 -0.011228  0.038339    ...    -0.020002 -0.012022  0.093166\n",
       "chol       61.0 -0.003017  0.022003    ...    -0.009914  0.016121  0.033449\n",
       "thalach    61.0  0.001993  0.036795    ...    -0.005962 -0.003571  0.144711\n",
       "age        61.0  0.000344  0.003804    ...     0.001026  0.003517  0.006001\n",
       "trestbps   61.0 -0.000095  0.011419    ...    -0.001359 -0.000814  0.056703\n",
       "fbs        61.0  0.000000  0.000000    ...     0.000000  0.000000  0.000000\n",
       "restecg    61.0  0.000000  0.000000    ...     0.000000  0.000000  0.000000\n",
       "\n",
       "[13 rows x 8 columns]"
      ]
     },
     "execution_count": 21,
     "metadata": {},
     "output_type": "execute_result"
    }
   ],
   "source": [
    "# Create DFC Pandas dataframe.\n",
    "labels = test_y.values\n",
    "probs = pd.Series([pred['probabilities'][1] for pred in pred_dicts])\n",
    "df_dfc = pd.DataFrame([pred['dfc'] for pred in pred_dicts])\n",
    "df_dfc.describe().T"
   ]
  },
  {
   "cell_type": "code",
   "execution_count": 22,
   "metadata": {
    "_uuid": "1ae79be86a4d0b34d258b71fb68b40da892f2cd6"
   },
   "outputs": [],
   "source": [
    "bias = pred_dicts[0]['bias']\n",
    "dfc_prob = df_dfc.sum(axis=1) + bias\n",
    "np.testing.assert_almost_equal(dfc_prob.values,\n",
    "                               probs.values)"
   ]
  },
  {
   "cell_type": "code",
   "execution_count": 23,
   "metadata": {
    "_uuid": "d558e14a4fca768377f2a0d00e64885aaa70767a"
   },
   "outputs": [],
   "source": [
    "# Boilerplate code for plotting :)\n",
    "def _get_color(value):\n",
    "    \"\"\"To make positive DFCs plot green, negative DFCs plot red.\"\"\"\n",
    "    green, red = sns.color_palette()[2:4]\n",
    "    if value >= 0: return green\n",
    "    return red\n",
    "\n",
    "def _add_feature_values(feature_values, ax):\n",
    "    \"\"\"Display feature's values on left of plot.\"\"\"\n",
    "    x_coord = ax.get_xlim()[0]\n",
    "    OFFSET = 0.15\n",
    "    for y_coord, (feat_name, feat_val) in enumerate(feature_values.items()):\n",
    "        t = plt.text(x_coord, y_coord - OFFSET, '{}'.format(feat_val), size=12)\n",
    "        t.set_bbox(dict(facecolor='white', alpha=0.5))\n",
    "    from matplotlib.font_manager import FontProperties\n",
    "    font = FontProperties()\n",
    "    font.set_weight('bold')\n",
    "    t = plt.text(x_coord, y_coord + 1 - OFFSET, 'feature\\nvalue',\n",
    "    fontproperties=font, size=12)\n",
    "    \n",
    "def plot_example(example):\n",
    "  TOP_N = 8 # View top 8 features.\n",
    "  sorted_ix = example.abs().sort_values()[-TOP_N:].index  # Sort by magnitude.\n",
    "  example = example[sorted_ix]\n",
    "  colors = example.map(_get_color).tolist()\n",
    "  ax = example.to_frame().plot(kind='barh',\n",
    "                          color=[colors],\n",
    "                          legend=None,\n",
    "                          alpha=0.75,\n",
    "                          figsize=(10,6))\n",
    "  ax.grid(False, axis='y')\n",
    "  ax.set_yticklabels(ax.get_yticklabels(), size=14)\n",
    "\n",
    "  # Add feature values.\n",
    "  _add_feature_values(test_set.iloc[ID][sorted_ix], ax)\n",
    "  return ax"
   ]
  },
  {
   "cell_type": "code",
   "execution_count": 24,
   "metadata": {
    "_uuid": "b6c1c084bb11058dca5024e7c64975a08d8a7701"
   },
   "outputs": [
    {
     "data": {
      "image/png": "[encoded data removed]",
      "text/plain": [
       "<Figure size 720x432 with 1 Axes>"
      ]
     },
     "metadata": {},
     "output_type": "display_data"
    }
   ],
   "source": [
    "# Plot results.\n",
    "ID = 27\n",
    "example = df_dfc.iloc[ID]  # Choose ith example from evaluation set.\n",
    "TOP_N = 8  # View top 8 features.\n",
    "sorted_ix = example.abs().sort_values()[-TOP_N:].index\n",
    "ax = plot_example(example)\n",
    "ax.set_title('Feature contributions for example {}\\n pred: {:1.2f}; label: {}'.format(ID, probs[ID], labels[ID]))\n",
    "ax.set_xlabel('Contribution to predicted probability', size=14);"
   ]
  },
  {
   "cell_type": "markdown",
   "metadata": {
    "_uuid": "c17c9166b6aeb954301ad18a6006cb7e6348d32f"
   },
   "source": [
    "### Gain-based feature importances"
   ]
  },
  {
   "cell_type": "code",
   "execution_count": 25,
   "metadata": {
    "_uuid": "5d91fe7826b962469165bb03770e8e5ec6c8b383"
   },
   "outputs": [
    {
     "data": {
      "image/png": "[encoded data removed]",
      "text/plain": [
       "<Figure size 720x432 with 1 Axes>"
      ]
     },
     "metadata": {},
     "output_type": "display_data"
    }
   ],
   "source": [
    "importances = est.experimental_feature_importances(normalize=True)\n",
    "df_imp = pd.Series(importances)\n",
    "\n",
    "# Visualize importances.\n",
    "N = 8\n",
    "ax = (df_imp.iloc[0:N][::-1]\n",
    "    .plot(kind='barh',\n",
    "          color=sns_colors[0],\n",
    "          title='Gain feature importances',\n",
    "          figsize=(10, 6)))\n",
    "ax.grid(False, axis='y')"
   ]
  },
  {
   "cell_type": "markdown",
   "metadata": {
    "_uuid": "ae8a9daae69b0fa0ed379968631d45293fcba3fb"
   },
   "source": [
    "### Avrage DFC Over all Data"
   ]
  },
  {
   "cell_type": "code",
   "execution_count": 26,
   "metadata": {
    "_uuid": "9d66afbb2ca3c50e5ce57f39b64ccec3a238357f"
   },
   "outputs": [
    {
     "data": {
      "image/png": "[encoded data removed]",
      "text/plain": [
       "<Figure size 720x432 with 1 Axes>"
      ]
     },
     "metadata": {},
     "output_type": "display_data"
    }
   ],
   "source": [
    "# Plot.\n",
    "dfc_mean = df_dfc.abs().mean()\n",
    "N = 8\n",
    "sorted_ix = dfc_mean.abs().sort_values()[-N:].index  # Average and sort by absolute.\n",
    "ax = dfc_mean[sorted_ix].plot(kind='barh',\n",
    "                       color=sns_colors[1],\n",
    "                       title='Mean |directional feature contributions|',\n",
    "                       figsize=(10, 6))\n",
    "ax.grid(False, axis='y')"
   ]
  },
  {
   "cell_type": "code",
   "execution_count": 27,
   "metadata": {
    "_uuid": "f7ad6b3908429a002e5f33acd1caf7d1f2c39505"
   },
   "outputs": [],
   "source": []
  },
  {
   "cell_type": "code",
   "execution_count": 27,
   "metadata": {
    "_uuid": "6ae7f4406eb2696db45d3abcc1db69d899ec12c5"
   },
   "outputs": [
    {
     "data": {
      "image/png": "[encoded data removed]",
      "text/plain": [
       "<Figure size 432x288 with 1 Axes>"
      ]
     },
     "metadata": {},
     "output_type": "display_data"
    }
   ],
   "source": [
    "# see how much a feature contributes based on its value\n",
    "FEATURE = 'oldpeak'\n",
    "feature = pd.Series(df_dfc[FEATURE].values, index=test_set[FEATURE].values).sort_index()\n",
    "ax = sns.regplot(feature.index.values, feature.values, lowess=True);\n",
    "ax.set_ylabel('contribution')\n",
    "ax.set_xlabel(FEATURE);\n",
    "ax.set_xlim(0, 10);"
   ]
  },
  {
   "cell_type": "markdown",
   "metadata": {
    "_uuid": "70d0fb7a232f35e8131b087afd2c50b8af39842b"
   },
   "source": [
    "### Permutation feature importance\n",
    "- in this part I was able to use the logistic model from earlier so I did"
   ]
  },
  {
   "cell_type": "code",
   "execution_count": 28,
   "metadata": {
    "_uuid": "bc01a0ef03a99e0255d8a6f2cd087667b562442d"
   },
   "outputs": [
    {
     "name": "stderr",
     "output_type": "stream",
     "text": [
      "/opt/conda/lib/python3.6/site-packages/ipykernel_launcher.py:11: SettingWithCopyWarning: \n",
      "A value is trying to be set on a copy of a slice from a DataFrame.\n",
      "Try using .loc[row_indexer,col_indexer] = value instead\n",
      "\n",
      "See the caveats in the documentation: http://pandas.pydata.org/pandas-docs/stable/indexing.html#indexing-view-versus-copy\n",
      "  # This is added back by InteractiveShellApp.init_path()\n",
      "/opt/conda/lib/python3.6/site-packages/ipykernel_launcher.py:13: SettingWithCopyWarning: \n",
      "A value is trying to be set on a copy of a slice from a DataFrame.\n",
      "Try using .loc[row_indexer,col_indexer] = value instead\n",
      "\n",
      "See the caveats in the documentation: http://pandas.pydata.org/pandas-docs/stable/indexing.html#indexing-view-versus-copy\n",
      "  del sys.path[0]\n"
     ]
    },
    {
     "data": {
      "image/png": "[encoded data removed]",
      "text/plain": [
       "<Figure size 720x432 with 1 Axes>"
      ]
     },
     "metadata": {},
     "output_type": "display_data"
    }
   ],
   "source": [
    "def permutation_importances(est, X_eval, y_eval, metric, features):\n",
    "    \"\"\"Column by column, shuffle values and observe effect on eval set.\n",
    "    \n",
    "    source: http://explained.ai/rf-importance/index.html\n",
    "    A similar approach can be done during training. See \"Drop-column importance\"\n",
    "    in the above article.\"\"\"\n",
    "    baseline = metric(est, X_eval, y_eval)\n",
    "    imp = []\n",
    "    for col in features:\n",
    "        save = X_eval[col].copy()\n",
    "        X_eval[col] = np.random.permutation(X_eval[col])\n",
    "        m = metric(est, X_eval, y_eval)\n",
    "        X_eval[col] = save\n",
    "        imp.append(baseline - m)\n",
    "    return np.array(imp)\n",
    "\n",
    "def accuracy_metric(est, X, y):\n",
    "    \"\"\"TensorFlow estimator accuracy.\"\"\"\n",
    "    eval_input_fn = make_input_fn(X,\n",
    "                                  y=y,\n",
    "                                  shuffle=False,\n",
    "                                  n_epochs=1)\n",
    "    return est.evaluate(input_fn=eval_input_fn)['accuracy']\n",
    "features = CATEGORICAL_COLUMNS + NUMERIC_COLUMNS\n",
    "importances = permutation_importances(linear_est, test_set, test_y, accuracy_metric,\n",
    "                                      features)\n",
    "df_imp = pd.Series(importances, index=features)\n",
    "\n",
    "sorted_ix = df_imp.abs().sort_values().index\n",
    "ax = df_imp[sorted_ix][-5:].plot(kind='barh', color=sns_colors[2], figsize=(10, 6))\n",
    "ax.grid(False, axis='y')\n",
    "ax.set_title('Permutation feature importance');"
   ]
  },
  {
   "cell_type": "markdown",
   "metadata": {
    "_uuid": "ec7129865750ad6fb6876932eed3e2410bab63e6"
   },
   "source": [
    "for more about feature importants info check out this [blog post](https://explained.ai/rf-importance/index.html). also for more info about how the code works check out the tensorflow [website](https://www.tensorflow.org/alpha/tutorials/estimators/boosted_trees)"
   ]
  },
  {
   "cell_type": "code",
   "execution_count": 29,
   "metadata": {
    "_uuid": "438d352009411db3e6aab3becb78884da849edd5"
   },
   "outputs": [],
   "source": []
  },
  {
   "cell_type": "code",
   "execution_count": 29,
   "metadata": {
    "_uuid": "25a2fb4eaf71967e998d926b7e0701cecf5ebde8"
   },
   "outputs": [],
   "source": []
  }
 ],
 "metadata": {
  "kernelspec": {
   "display_name": "Python 3",
   "language": "python",
   "name": "python3"
  },
  "language_info": {
   "codemirror_mode": {
    "name": "ipython",
    "version": 3
   },
   "file_extension": ".py",
   "mimetype": "text/x-python",
   "name": "python",
   "nbconvert_exporter": "python",
   "pygments_lexer": "ipython3",
   "version": "3.6.6"
  }
 },
 "nbformat": 4,
 "nbformat_minor": 1
}
